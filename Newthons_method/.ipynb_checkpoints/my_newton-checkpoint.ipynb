{
 "cells": [
  {
   "cell_type": "markdown",
   "metadata": {},
   "source": [
    "# Scond Order Optimization Methods\n",
    "## A homemade implementation of the Newton's Optimization method"
   ]
  },
  {
   "cell_type": "code",
   "execution_count": 10,
   "metadata": {
    "collapsed": true
   },
   "outputs": [],
   "source": [
    "import numpy as np\n",
    "import matplotlib.pyplot as plt\n",
    "import pandas as pd\n",
    "%matplotlib inline"
   ]
  },
  {
   "cell_type": "code",
   "execution_count": 11,
   "metadata": {
    "collapsed": true
   },
   "outputs": [],
   "source": [
    "def plot(x_array, y_array):\n",
    "    plt.plot(x,y,'r.')\n",
    "    plt.show()"
   ]
  },
  {
   "cell_type": "code",
   "execution_count": 20,
   "metadata": {
    "collapsed": true
   },
   "outputs": [],
   "source": [
    "x = np.linspace(-2, 10, 1000)\n",
    "y = [ np.e**(-xi)*np.sin(xi) for xi in x ]"
   ]
  },
  {
   "cell_type": "code",
   "execution_count": 21,
   "metadata": {},
   "outputs": [
    {
     "data": {
      "image/png": "[encoded data removed]",
      "text/plain": [
       "<matplotlib.figure.Figure at 0x1c9e51f4b00>"
      ]
     },
     "metadata": {},
     "output_type": "display_data"
    }
   ],
   "source": [
    "plot(x, y)"
   ]
  },
  {
   "cell_type": "code",
   "execution_count": 22,
   "metadata": {
    "collapsed": true
   },
   "outputs": [],
   "source": [
    "def newton(x, y, tol):\n",
    "    w = np.array([0.0, 0.0, 0.0])\n",
    "    error = 10\n",
    "    steps = 0\n",
    "    while(error>tol):\n",
    "        l1 = loss(w)\n",
    "        steps +=1\n",
    "        for i in range(len(x[0]+1)): # 1 iter for each dimension\n",
    "            H = hessian(x, N, w)\n",
    "            G = gradL(x, y, w)\n",
    "            w = w - np.dot(np.linalg.ping(H), G)\n",
    "        l2 = loss(w)\n",
    "        error = np.abs(l2-l1)\n",
    "    return w, error, steps"
   ]
  },
  {
   "cell_type": "code",
   "execution_count": null,
   "metadata": {
    "collapsed": true
   },
   "outputs": [],
   "source": []
  }
 ],
 "metadata": {
  "kernelspec": {
   "display_name": "Python 3",
   "language": "python",
   "name": "python3"
  },
  "language_info": {
   "codemirror_mode": {
    "name": "ipython",
    "version": 3
   },
   "file_extension": ".py",
   "mimetype": "text/x-python",
   "name": "python",
   "nbconvert_exporter": "python",
   "pygments_lexer": "ipython3",
   "version": "3.5.3"
  }
 },
 "nbformat": 4,
 "nbformat_minor": 2
}
