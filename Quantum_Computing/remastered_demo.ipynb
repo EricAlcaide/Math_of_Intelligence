{
 "cells": [
  {
   "cell_type": "code",
   "execution_count": 68,
   "metadata": {
    "collapsed": true
   },
   "outputs": [],
   "source": [
    "# Lets test the IBM Quantum API\n",
    "# First of all, import the necessary modules\n",
    "\n",
    "# I am using IBM's quantum computing SDK and API in python.\n",
    "# You can get it here: https://github.com/IBM/qiskit-sdk-py\n",
    "# To use the API, you need a IBM QX account, which is free at\n",
    "# https://quantumexperience.ng.bluemix.net/qx\n",
    "\n",
    "import sys\n",
    "# solve the relative dependencies if you clone QISKit from the Git repo and use like a global.\n",
    "sys.path.append(\"../../qiskit-sdk-py\")\n",
    "\n",
    "from qiskit import QuantumProgram\n",
    "from tools import visualization\n",
    "import Qconfig"
   ]
  },
  {
   "cell_type": "code",
   "execution_count": 56,
   "metadata": {
    "collapsed": true
   },
   "outputs": [],
   "source": [
    "# ##############################################################\n",
    "# Creating The Program\n",
    "# Create your first QuantumProgram object instance.\n",
    "# ##############################################################\n",
    "n = 3\n",
    "QPS_SPECS = {\n",
    "    \"circuits\": [{\n",
    "        \"name\": \"qc\",\n",
    "        \"quantum_registers\": [{\n",
    "            \"name\": \"qr\",\n",
    "            \"size\": n\n",
    "        }],\n",
    "        \"classical_registers\": [\n",
    "            {\"name\": \"cr\",\n",
    "             \"size\": n}\n",
    "        ]}]\n",
    "}\n",
    "\n",
    "qp = QuantumProgram(specs=QPS_SPECS)"
   ]
  },
  {
   "cell_type": "code",
   "execution_count": 57,
   "metadata": {},
   "outputs": [
    {
     "name": "stdout",
     "output_type": "stream",
     "text": [
      "{'data': [], 'regs': OrderedDict([('qr', <qiskit._quantumregister.QuantumRegister object at 0x000002678D32C9B0>), ('cr', <qiskit._classicalregister.ClassicalRegister object at 0x000002678D32C710>)])}\n"
     ]
    }
   ],
   "source": [
    "# Get the circuit by Name\n",
    "circuit = qp.get_circuit(\"qc\")\n",
    "dicted = circuit.__dict__\n",
    "print(dicted)"
   ]
  },
  {
   "cell_type": "code",
   "execution_count": 58,
   "metadata": {},
   "outputs": [
    {
     "name": "stdout",
     "output_type": "stream",
     "text": [
      "QuantumRegister(qr,3) ClassicalRegister(cr,3)\n"
     ]
    }
   ],
   "source": [
    "qRegister = circuit.regs['qr']\n",
    "cRegister = circuit.regs['cr']\n",
    "print(qRegister, cRegister)"
   ]
  },
  {
   "cell_type": "code",
   "execution_count": 59,
   "metadata": {
    "collapsed": true
   },
   "outputs": [],
   "source": [
    "# First, we apply the Hadamard gates to every qubit\n",
    "# Now, all the possible states are equally likely to be observed\n",
    "for i in range(n):\n",
    "    circuit.h(qRegister[i]) "
   ]
  },
  {
   "cell_type": "code",
   "execution_count": 60,
   "metadata": {},
   "outputs": [
    {
     "data": {
      "text/plain": [
       "<qiskit.extensions.standard.cz.CzGate at 0x2678d32c7f0>"
      ]
     },
     "execution_count": 60,
     "metadata": {},
     "output_type": "execute_result"
    }
   ],
   "source": [
    "# With every possible state, we will apply the Oracle*. In this case,\n",
    "# To make a constant function, you can either comment out the below oracle\n",
    "# or make your own constant function!\n",
    "# *an oracle analogous to calling a function in a classical computer. Note\n",
    "# that for a different function, a new oracle needs to be built.\n",
    "circuit.z(qRegister[0])\n",
    "circuit.cz(qRegister[1], qRegister[2])"
   ]
  },
  {
   "cell_type": "code",
   "execution_count": 61,
   "metadata": {
    "collapsed": true
   },
   "outputs": [],
   "source": [
    "# Now, we apply the H-gate to all the qubits again.\n",
    "for i in range(n):\n",
    "    circuit.h(qRegister[i])"
   ]
  },
  {
   "cell_type": "code",
   "execution_count": 70,
   "metadata": {},
   "outputs": [
    {
     "name": "stdout",
     "output_type": "stream",
     "text": [
      "COMPLETED\n",
      "{'101': 258, '001': 254, '011': 244, '111': 268}\n"
     ]
    },
    {
     "data": {
      "image/png": "[encoded data removed]",
      "text/plain": [
       "<matplotlib.figure.Figure at 0x2678d3feac8>"
      ]
     },
     "metadata": {},
     "output_type": "display_data"
    }
   ],
   "source": [
    "# That's it for this algorithm! Measure the qubits into the classical registers.\n",
    "# For a constant function, we expect a 100% chance of observing all 0s. (if simulated)\n",
    "# For a balanced function, we expect anything else.\n",
    "# This means that when we examine the probability of measuring all 0s, we get 1 for a constant\n",
    "# function (due to constructive interference) and 0 for a balanced function (destructed interference).\n",
    "# This is a deterministic algorithm.\n",
    "# The math behind this algorithm is on IBM's QX Full user guide:\n",
    "# https://quantumexperience.ng.bluemix.net/qx/tutorial?sectionId=8443c4f713521c10b1a56a533958286b&pageIndex=3\n",
    "# The biggest resource that helped my understand constructive/destructive interference in the algorithm was this video:\n",
    "# https://www.youtube.com/watch?v=mGqyzZ-fnnY\n",
    "# This algorithm can evaluate the function in one call, which is exponentially faster than\n",
    "# a classical computer's 2^(n-1) + 1.\n",
    "circuit.measure(qRegister[0], cRegister[0])\n",
    "circuit.measure(qRegister[1], cRegister[1])\n",
    "circuit.measure(qRegister[2], cRegister[2])\n",
    "# Set the API\n",
    "qp.set_api(Qconfig.APItoken, Qconfig.config[\"url\"])\n",
    "# Backend to execute your program, in this case it is the online simulator\n",
    "device = 'ibmqx_qasm_simulator'\n",
    "# Group of circuits to execute\n",
    "circuits = [\"qc\"]  \n",
    "# Execute your program\n",
    "# Run your program in the device (5 times prove its randomness). First version: not mapped.\n",
    "for i in range(1):\n",
    "    result = qp.execute(circuits, backend=device,\n",
    "                        coupling_map=None, shots=1024)\n",
    "    print(result)\n",
    "    print(result.get_counts(circuits[0]))\n",
    "    visualization.plot_histogram(result.get_counts(circuits[0]))\n"
   ]
  }
 ],
 "metadata": {
  "kernelspec": {
   "display_name": "Python 3",
   "language": "python",
   "name": "python3"
  },
  "language_info": {
   "codemirror_mode": {
    "name": "ipython",
    "version": 3
   },
   "file_extension": ".py",
   "mimetype": "text/x-python",
   "name": "python",
   "nbconvert_exporter": "python",
   "pygments_lexer": "ipython3",
   "version": "3.5.3"
  }
 },
 "nbformat": 4,
 "nbformat_minor": 2
}
